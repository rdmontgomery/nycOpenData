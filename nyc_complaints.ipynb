{
 "cells": [
  {
   "cell_type": "code",
   "execution_count": 1,
   "metadata": {},
   "outputs": [
    {
     "name": "stdout",
     "output_type": "stream",
     "text": [
      "Requirement already satisfied: sodapy in /opt/conda/lib/python3.6/site-packages\n",
      "Requirement already satisfied: requests==2.19.1 in /opt/conda/lib/python3.6/site-packages (from sodapy)\n",
      "Requirement already satisfied: future==0.16.0 in /opt/conda/lib/python3.6/site-packages (from sodapy)\n",
      "Requirement already satisfied: chardet<3.1.0,>=3.0.2 in /opt/conda/lib/python3.6/site-packages (from requests==2.19.1->sodapy)\n",
      "Requirement already satisfied: idna<2.8,>=2.5 in /opt/conda/lib/python3.6/site-packages (from requests==2.19.1->sodapy)\n",
      "Requirement already satisfied: urllib3<1.24,>=1.21.1 in /opt/conda/lib/python3.6/site-packages (from requests==2.19.1->sodapy)\n",
      "Requirement already satisfied: certifi>=2017.4.17 in /opt/conda/lib/python3.6/site-packages (from requests==2.19.1->sodapy)\n",
      "\u001b[33mYou are using pip version 9.0.3, however version 18.1 is available.\n",
      "You should consider upgrading via the 'pip install --upgrade pip' command.\u001b[0m\n"
     ]
    }
   ],
   "source": [
    "import sys\n",
    "!{sys.executable} -m pip install sodapy"
   ]
  },
  {
   "cell_type": "code",
   "execution_count": 2,
   "metadata": {},
   "outputs": [],
   "source": [
    "import pandas as pd\n",
    "from sodapy import Socrata"
   ]
  },
  {
   "cell_type": "code",
   "execution_count": 3,
   "metadata": {},
   "outputs": [
    {
     "name": "stderr",
     "output_type": "stream",
     "text": [
      "WARNING:root:Requests made without an app_token will be subject to strict throttling limits.\n"
     ]
    }
   ],
   "source": [
    "client = Socrata('data.cityofnewyork.us', None)"
   ]
  },
  {
   "cell_type": "code",
   "execution_count": 4,
   "metadata": {},
   "outputs": [],
   "source": [
    "results = client.get(\n",
    "    'fhrw-4uyv',\n",
    "    select='created_date, borough, complaint_type',\n",
    "    where='''\\\n",
    "        created_date >= \"2017-01-01T00:00:00\"\n",
    "        and created_date < \"2018-01-01T00:00:00\"\n",
    "        ''',\n",
    "    limit=500)"
   ]
  },
  {
   "cell_type": "code",
   "execution_count": 5,
   "metadata": {},
   "outputs": [],
   "source": [
    "df = pd.DataFrame.from_records(results)"
   ]
  },
  {
   "cell_type": "code",
   "execution_count": 6,
   "metadata": {},
   "outputs": [
    {
     "data": {
      "text/plain": [
       "Graffiti                                     151\n",
       "New Tree Request                              58\n",
       "General Construction/Plumbing                 46\n",
       "Building/Use                                  43\n",
       "Damaged Tree                                  42\n",
       "Dead/Dying Tree                               40\n",
       "Overgrown Tree/Branches                       16\n",
       "Street Light Condition                        15\n",
       "Plumbing                                      13\n",
       "Water System                                  11\n",
       "Street Sign - Missing                          9\n",
       "DCA / DOH New License Application Request      6\n",
       "Root/Sewer/Sidewalk Condition                  6\n",
       "DOF Property - Payment Issue                   5\n",
       "PAINT/PLASTER                                  4\n",
       "Street Sign - Damaged                          3\n",
       "Special Projects Inspection Team (SPIT)        3\n",
       "Sanitation Condition                           2\n",
       "Street Condition                               2\n",
       "WATER LEAK                                     2\n",
       "Sewer                                          2\n",
       "Vacant Lot                                     2\n",
       "Taxi Complaint                                 2\n",
       "DOOR/WINDOW                                    2\n",
       "Electrical                                     1\n",
       "BEST/Site Safety                               1\n",
       "UNSANITARY CONDITION                           1\n",
       "Elevator                                       1\n",
       "Noise                                          1\n",
       "GENERAL                                        1\n",
       "Illegal Tree Damage                            1\n",
       "For Hire Vehicle Complaint                     1\n",
       "Boilers                                        1\n",
       "Traffic Signal Condition                       1\n",
       "ELECTRIC                                       1\n",
       "Unsanitary Animal Pvt Property                 1\n",
       "Rodent                                         1\n",
       "PLUMBING                                       1\n",
       "Indoor Air Quality                             1\n",
       "Name: complaint_type, dtype: int64"
      ]
     },
     "execution_count": 6,
     "metadata": {},
     "output_type": "execute_result"
    }
   ],
   "source": [
    "df['complaint_type'].value_counts()"
   ]
  }
 ],
 "metadata": {
  "kernelspec": {
   "display_name": "Python 3",
   "language": "python",
   "name": "python3"
  },
  "language_info": {
   "codemirror_mode": {
    "name": "ipython",
    "version": 3
   },
   "file_extension": ".py",
   "mimetype": "text/x-python",
   "name": "python",
   "nbconvert_exporter": "python",
   "pygments_lexer": "ipython3",
   "version": "3.6.3"
  }
 },
 "nbformat": 4,
 "nbformat_minor": 2
}
