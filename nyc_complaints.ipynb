{
 "cells": [
  {
   "cell_type": "code",
   "execution_count": 1,
   "metadata": {},
   "outputs": [
    {
     "name": "stdout",
     "output_type": "stream",
     "text": [
      "Requirement already satisfied: sodapy in /opt/conda/lib/python3.6/site-packages\n",
      "Requirement already satisfied: requests==2.19.1 in /opt/conda/lib/python3.6/site-packages (from sodapy)\n",
      "Requirement already satisfied: future==0.16.0 in /opt/conda/lib/python3.6/site-packages (from sodapy)\n",
      "Requirement already satisfied: chardet<3.1.0,>=3.0.2 in /opt/conda/lib/python3.6/site-packages (from requests==2.19.1->sodapy)\n",
      "Requirement already satisfied: idna<2.8,>=2.5 in /opt/conda/lib/python3.6/site-packages (from requests==2.19.1->sodapy)\n",
      "Requirement already satisfied: urllib3<1.24,>=1.21.1 in /opt/conda/lib/python3.6/site-packages (from requests==2.19.1->sodapy)\n",
      "Requirement already satisfied: certifi>=2017.4.17 in /opt/conda/lib/python3.6/site-packages (from requests==2.19.1->sodapy)\n",
      "\u001b[33mYou are using pip version 9.0.3, however version 18.1 is available.\n",
      "You should consider upgrading via the 'pip install --upgrade pip' command.\u001b[0m\n"
     ]
    }
   ],
   "source": [
    "import sys\n",
    "!{sys.executable} -m pip install sodapy"
   ]
  },
  {
   "cell_type": "code",
   "execution_count": 2,
   "metadata": {},
   "outputs": [],
   "source": [
    "import pandas as pd\n",
    "from sodapy import Socrata"
   ]
  },
  {
   "cell_type": "code",
   "execution_count": 3,
   "metadata": {},
   "outputs": [
    {
     "name": "stderr",
     "output_type": "stream",
     "text": [
      "WARNING:root:Requests made without an app_token will be subject to strict throttling limits.\n"
     ]
    }
   ],
   "source": [
    "client = Socrata('data.cityofnewyork.us', None)"
   ]
  },
  {
   "cell_type": "code",
   "execution_count": 4,
   "metadata": {},
   "outputs": [],
   "source": [
    "def get_records(limit, offset):\n",
    "    records = client.get(\n",
    "        'fhrw-4uyv',\n",
    "        select='borough, complaint_type',\n",
    "        where='''\\\n",
    "            created_date >= \"2017-01-01T00:00:00\"\n",
    "            and created_date < \"2018-01-01T00:00:00\"\n",
    "            ''',\n",
    "        order='created_date',\n",
    "        limit=limit,\n",
    "        offset=offset)\n",
    "    \n",
    "    return records"
   ]
  },
  {
   "cell_type": "code",
   "execution_count": 5,
   "metadata": {},
   "outputs": [],
   "source": [
    "df = pd.DataFrame(columns=['borough', 'complaint_type'])\n",
    "offset = 0; limit = 100000\n",
    "prev_length = -1"
   ]
  },
  {
   "cell_type": "code",
   "execution_count": 6,
   "metadata": {},
   "outputs": [],
   "source": [
    "# page through the data\n",
    "while len(df) != prev_length:\n",
    "    records = get_records(limit, offset)\n",
    "\n",
    "    prev_length = len(df)\n",
    "    df = pd.concat([df, pd.DataFrame.from_records(records)], ignore_index=True)\n",
    "    \n",
    "    offset += limit"
   ]
  },
  {
   "cell_type": "code",
   "execution_count": 7,
   "metadata": {},
   "outputs": [],
   "source": [
    "# Use boolean indexing to select complaints that rank in the top ten\n",
    "topTen = df['complaint_type'].value_counts().iloc[:10].index\n",
    "tt = df[df['complaint_type'].isin(topTen)]"
   ]
  },
  {
   "cell_type": "code",
   "execution_count": 8,
   "metadata": {},
   "outputs": [
    {
     "data": {
      "text/html": [
       "<div>\n",
       "<style scoped>\n",
       "    .dataframe tbody tr th:only-of-type {\n",
       "        vertical-align: middle;\n",
       "    }\n",
       "\n",
       "    .dataframe tbody tr th {\n",
       "        vertical-align: top;\n",
       "    }\n",
       "\n",
       "    .dataframe thead th {\n",
       "        text-align: right;\n",
       "    }\n",
       "</style>\n",
       "<table border=\"1\" class=\"dataframe\">\n",
       "  <thead>\n",
       "    <tr style=\"text-align: right;\">\n",
       "      <th>borough</th>\n",
       "      <th>BRONX</th>\n",
       "      <th>BROOKLYN</th>\n",
       "      <th>MANHATTAN</th>\n",
       "      <th>QUEENS</th>\n",
       "      <th>STATEN ISLAND</th>\n",
       "      <th>Unspecified</th>\n",
       "      <th>All</th>\n",
       "    </tr>\n",
       "    <tr>\n",
       "      <th>complaint_type</th>\n",
       "      <th></th>\n",
       "      <th></th>\n",
       "      <th></th>\n",
       "      <th></th>\n",
       "      <th></th>\n",
       "      <th></th>\n",
       "      <th></th>\n",
       "    </tr>\n",
       "  </thead>\n",
       "  <tbody>\n",
       "    <tr>\n",
       "      <th>Blocked Driveway</th>\n",
       "      <td>24574</td>\n",
       "      <td>49302</td>\n",
       "      <td>3428</td>\n",
       "      <td>54290</td>\n",
       "      <td>3465</td>\n",
       "      <td>1038</td>\n",
       "      <td>136097</td>\n",
       "    </tr>\n",
       "    <tr>\n",
       "      <th>HEAT/HOT WATER</th>\n",
       "      <td>68718</td>\n",
       "      <td>66984</td>\n",
       "      <td>46529</td>\n",
       "      <td>29217</td>\n",
       "      <td>2073</td>\n",
       "      <td>0</td>\n",
       "      <td>213521</td>\n",
       "    </tr>\n",
       "    <tr>\n",
       "      <th>Illegal Parking</th>\n",
       "      <td>16122</td>\n",
       "      <td>55380</td>\n",
       "      <td>19687</td>\n",
       "      <td>46065</td>\n",
       "      <td>7574</td>\n",
       "      <td>1294</td>\n",
       "      <td>146122</td>\n",
       "    </tr>\n",
       "    <tr>\n",
       "      <th>Noise</th>\n",
       "      <td>3134</td>\n",
       "      <td>15421</td>\n",
       "      <td>29002</td>\n",
       "      <td>10685</td>\n",
       "      <td>1926</td>\n",
       "      <td>3</td>\n",
       "      <td>60171</td>\n",
       "    </tr>\n",
       "    <tr>\n",
       "      <th>Noise - Residential</th>\n",
       "      <td>57663</td>\n",
       "      <td>67629</td>\n",
       "      <td>51026</td>\n",
       "      <td>46396</td>\n",
       "      <td>6744</td>\n",
       "      <td>694</td>\n",
       "      <td>230152</td>\n",
       "    </tr>\n",
       "    <tr>\n",
       "      <th>Noise - Street/Sidewalk</th>\n",
       "      <td>14025</td>\n",
       "      <td>21313</td>\n",
       "      <td>29147</td>\n",
       "      <td>7530</td>\n",
       "      <td>853</td>\n",
       "      <td>217</td>\n",
       "      <td>73085</td>\n",
       "    </tr>\n",
       "    <tr>\n",
       "      <th>Street Condition</th>\n",
       "      <td>11761</td>\n",
       "      <td>25432</td>\n",
       "      <td>14840</td>\n",
       "      <td>30629</td>\n",
       "      <td>10560</td>\n",
       "      <td>43</td>\n",
       "      <td>93265</td>\n",
       "    </tr>\n",
       "    <tr>\n",
       "      <th>Street Light Condition</th>\n",
       "      <td>18410</td>\n",
       "      <td>22458</td>\n",
       "      <td>11077</td>\n",
       "      <td>24258</td>\n",
       "      <td>6604</td>\n",
       "      <td>1388</td>\n",
       "      <td>84195</td>\n",
       "    </tr>\n",
       "    <tr>\n",
       "      <th>UNSANITARY CONDITION</th>\n",
       "      <td>24561</td>\n",
       "      <td>26659</td>\n",
       "      <td>14635</td>\n",
       "      <td>11474</td>\n",
       "      <td>1953</td>\n",
       "      <td>0</td>\n",
       "      <td>79282</td>\n",
       "    </tr>\n",
       "    <tr>\n",
       "      <th>Water System</th>\n",
       "      <td>10221</td>\n",
       "      <td>19809</td>\n",
       "      <td>10930</td>\n",
       "      <td>18792</td>\n",
       "      <td>5349</td>\n",
       "      <td>0</td>\n",
       "      <td>65101</td>\n",
       "    </tr>\n",
       "    <tr>\n",
       "      <th>All</th>\n",
       "      <td>249189</td>\n",
       "      <td>370387</td>\n",
       "      <td>230301</td>\n",
       "      <td>279336</td>\n",
       "      <td>47101</td>\n",
       "      <td>4677</td>\n",
       "      <td>1180991</td>\n",
       "    </tr>\n",
       "  </tbody>\n",
       "</table>\n",
       "</div>"
      ],
      "text/plain": [
       "borough                   BRONX  BROOKLYN  MANHATTAN  QUEENS  STATEN ISLAND  \\\n",
       "complaint_type                                                                \n",
       "Blocked Driveway          24574     49302       3428   54290           3465   \n",
       "HEAT/HOT WATER            68718     66984      46529   29217           2073   \n",
       "Illegal Parking           16122     55380      19687   46065           7574   \n",
       "Noise                      3134     15421      29002   10685           1926   \n",
       "Noise - Residential       57663     67629      51026   46396           6744   \n",
       "Noise - Street/Sidewalk   14025     21313      29147    7530            853   \n",
       "Street Condition          11761     25432      14840   30629          10560   \n",
       "Street Light Condition    18410     22458      11077   24258           6604   \n",
       "UNSANITARY CONDITION      24561     26659      14635   11474           1953   \n",
       "Water System              10221     19809      10930   18792           5349   \n",
       "All                      249189    370387     230301  279336          47101   \n",
       "\n",
       "borough                  Unspecified      All  \n",
       "complaint_type                                 \n",
       "Blocked Driveway                1038   136097  \n",
       "HEAT/HOT WATER                     0   213521  \n",
       "Illegal Parking                 1294   146122  \n",
       "Noise                              3    60171  \n",
       "Noise - Residential              694   230152  \n",
       "Noise - Street/Sidewalk          217    73085  \n",
       "Street Condition                  43    93265  \n",
       "Street Light Condition          1388    84195  \n",
       "UNSANITARY CONDITION               0    79282  \n",
       "Water System                       0    65101  \n",
       "All                             4677  1180991  "
      ]
     },
     "execution_count": 8,
     "metadata": {},
     "output_type": "execute_result"
    }
   ],
   "source": [
    "# The following contingency table shows the number of complaints by type for each borough, \n",
    "# for the top ten most common types of complaints\n",
    "pd.crosstab(index=tt['complaint_type'], columns=tt['borough'], margins=True)"
   ]
  }
 ],
 "metadata": {
  "kernelspec": {
   "display_name": "Python 3",
   "language": "python",
   "name": "python3"
  },
  "language_info": {
   "codemirror_mode": {
    "name": "ipython",
    "version": 3
   },
   "file_extension": ".py",
   "mimetype": "text/x-python",
   "name": "python",
   "nbconvert_exporter": "python",
   "pygments_lexer": "ipython3",
   "version": "3.6.3"
  }
 },
 "nbformat": 4,
 "nbformat_minor": 2
}
